{
 "cells": [
  {
   "cell_type": "markdown",
   "metadata": {},
   "source": [
    "## Описание реализации Генетического алгоритма."
   ]
  },
  {
   "attachments": {
    "pic4.png": {
     "image/png": "[encoded data removed]"
    }
   },
   "cell_type": "markdown",
   "metadata": {},
   "source": [
    "- Модификацию признаков представим в виде матрицы. Матрицу называют хромосомой. Она заполняется нулями и единицами - это гены. 0 - не выполнять данную модификацию над признаком, 1 - выполнять модификацию.\n",
    "\n",
    "![pic4.png](attachment:pic4.png)\n",
    "\n",
    "- Из нескольких хромосом составляют популяцию (поколение). Хромосомы нулевого поколения заполняют единицами и нулями случайным образом.\n",
    "- По каждой хромосоме создается свой набор измененных данных, обучается модель и определяется её качество с использованием скользящего контроля.\n",
    "- Следующий набор хромосом (следующее поколение) создаётся путём копирования части ген из хромосомы с самой высокой точностью модели в хромосомы моделей меньшей точности (скрещивание)."
   ]
  },
  {
   "cell_type": "code",
   "execution_count": null,
   "metadata": {
    "code_folding": [],
    "deletable": false,
    "editable": false,
    "run_control": {
     "frozen": true,
     "marked": false
    }
   },
   "outputs": [],
   "source": [
    "# Нулевое поколение. Отсортировано по убыванию качества модели (cv_score).\n",
    "'''\n",
    "{'genes': array([[0, 1, 1, 0, 0, 0, 0, 1, 0, 1],\n",
    "                 [1, 0, 1, 1, 0, 0, 1, 0, 1, 0],\n",
    "                 [1, 0, 0, 1, 0, 0, 0, 0, 0, 1],\n",
    "                 [1, 1, 1, 0, 0, 0, 1, 0, 1, 0]]), 'cv_score': 0.833}, \n",
    "\n",
    "{'genes': array([[0, 1, 0, 0, 1, 0, 1, 1, 0, 1],\n",
    "                 [0, 1, 1, 1, 0, 0, 0, 1, 1, 1],\n",
    "                 [1, 1, 0, 1, 0, 0, 1, 1, 1, 1],\n",
    "                 [0, 1, 1, 1, 0, 1, 1, 0, 1, 1]]), 'cv_score': 0.793}, \n",
    "\n",
    "{'genes': array([[0, 0, 1, 0, 1, 1, 1, 1, 0, 0],\n",
    "                 [1, 1, 0, 0, 1, 0, 0, 1, 1, 0],\n",
    "                 [0, 0, 0, 0, 0, 0, 0, 1, 1, 1],\n",
    "                 [1, 1, 1, 0, 1, 1, 0, 1, 0, 0]]), 'cv_score': 0.773}, \n",
    "\n",
    "                                ...\n",
    "    \n",
    "{'genes': array([[0, 0, 1, 1, 0, 0, 0, 1, 1, 0],\n",
    "                 [0, 1, 0, 0, 1, 1, 0, 1, 1, 0],\n",
    "                 [0, 1, 0, 0, 1, 0, 0, 1, 1, 1],\n",
    "                 [1, 0, 1, 0, 1, 0, 0, 1, 1, 1]]), 'cv_score': 0.745}'''"
   ]
  },
  {
   "cell_type": "markdown",
   "metadata": {},
   "source": [
    "Если после этого сразу перейти к созданию новых наборов данных и обучению моделей, то через несколько поколений хромосомы начнут повторяться и мы не сможем найти оптимум. Поэтому:\n",
    "- Случайным генам в хромосомах меняем значение на противоположное, т.е. делаем мутацию.\n",
    "\n",
    "Для обеспечения мультистарта и выхода из локального минимума:\n",
    "\n",
    "- Несколько хромосом по прежнему заполняем случайным образом.\n",
    "- Одну из хромосом генерируем реверсом наилучшей.\n",
    "\n",
    "Условия остановки:\n",
    "- Максимальное число поколений (итераций).\n",
    "- Желаемый уровень качества модели (desired score).\n",
    "\n",
    "Получив и проанализировав полученные результаты можно выполнить горячий рестарт с изменением некоторых параметров поиска, добавив итерации:\n",
    "- Увеличить долю мутирующих генов.\n",
    "- Изменить тип манипуляций над признаками."
   ]
  },
  {
   "cell_type": "markdown",
   "metadata": {},
   "source": [
    "## Библиотеки. Данные. Классы алгоритмов."
   ]
  },
  {
   "cell_type": "code",
   "execution_count": 1,
   "metadata": {},
   "outputs": [],
   "source": [
    "import numpy as np\n",
    "import matplotlib.pyplot as plt\n",
    "import tqdm as tqdm\n",
    "import pandas as pd\n",
    "from sklearn import datasets"
   ]
  },
  {
   "cell_type": "code",
   "execution_count": 27,
   "metadata": {
    "code_folding": []
   },
   "outputs": [],
   "source": [
    "# Генерация данных для задачи классификации\n",
    "# X, y = datasets.make_classification(n_samples=500, n_features=10, n_informative=5, n_classes=3)\n",
    "\n",
    "# Генерация данных для задачи регрессии\n",
    "X, y = datasets.make_regression(n_samples=500, n_features=5, n_informative=3)"
   ]
  },
  {
   "cell_type": "code",
   "execution_count": 28,
   "metadata": {
    "code_folding": [
     0
    ],
    "run_control": {
     "marked": false
    }
   },
   "outputs": [],
   "source": [
    "def plot_results(vmin=0, vmax=1):\n",
    "    print(\"Best chromosome:\\n\", ga.best_genes,\n",
    "      \"\\n\\nwith score: \", ga.score, \" at population # \", ga.at_iteration)\n",
    "\n",
    "    fig, axes = plt.subplots(nrows=1, ncols=2, figsize=(10, 5), sharey=True)\n",
    "    fig.subplots_adjust(wspace=0)\n",
    "\n",
    "    axes[0].plot(ga.cv_all_scores, label=\"chromosomes score\")\n",
    "\n",
    "    axes[0].plot([0, len(ga.cv_all_scores)], [1, 1], c=\"k\")\n",
    "    axes[0].set_ylabel('cv score')\n",
    "    axes[0].set_xlabel('chromosomes')\n",
    "\n",
    "    axes[1].plot(ga.cv_best_score, label=\"best cv score\")\n",
    "\n",
    "    axes[1].plot([0, len(ga.cv_best_score) - 1], [1, 1], c=\"k\")\n",
    "    axes[1].plot([0, len(ga.cv_best_score) - 1], [zero_score, zero_score], c=\"r\", label=\"zero cv score\")\n",
    "    axes[1].set_xlabel('populations')\n",
    "\n",
    "    plt.ylim(vmin, vmax)\n",
    "    plt.legend(loc='lower right')\n",
    "    plt.show()"
   ]
  },
  {
   "cell_type": "code",
   "execution_count": 29,
   "metadata": {
    "code_folding": [
     0
    ]
   },
   "outputs": [],
   "source": [
    "def importance():\n",
    "    columns = [\"x\" + str(i) for i in range(X.shape[1])]\n",
    "\n",
    "    importance = pd.DataFrame(np.array(ga.gene_expression / len(ga.cv_best_score) * 100, \n",
    "                              dtype=np.int64),\n",
    "                              columns=columns, index=manipulations)\n",
    "    return importance"
   ]
  },
  {
   "cell_type": "code",
   "execution_count": 30,
   "metadata": {
    "code_folding": [
     7,
     15,
     19,
     29,
     34,
     41
    ],
    "run_control": {
     "marked": false
    }
   },
   "outputs": [],
   "source": [
    "class KNN:\n",
    "    def __init__(self, k=3, scale=True):\n",
    "        self.scale = scale\n",
    "        self.k = k\n",
    "        self.method = \"classification\"\n",
    "        self.metric = \"accuracy\"\n",
    "        \n",
    "    def fit(self, X_train, y_train):\n",
    "        self.X_train = X_train\n",
    "        self.y_train = y_train\n",
    "        \n",
    "        if (y_train == y_train.astype(int)).sum() != len(y_train):\n",
    "            self.method = \"regression\"\n",
    "            self.metric = \"r2\"\n",
    "        \n",
    "    def predict(self, X_test):\n",
    "        labels = [self.find_labels(x_test) for x_test in X_test]\n",
    "        return np.array(labels)\n",
    "    \n",
    "    def find_labels(self, x_test):\n",
    "        distances = [self.distance(x_test, x_train) for x_train in self.X_train]   \n",
    "        k_nearest = np.argsort(distances)[:self.k]\n",
    "        y_labels = [self.y_train[i] for i in k_nearest]\n",
    "        \n",
    "        if self.method == \"regression\":\n",
    "            return sum(y_labels) / self.k\n",
    "            \n",
    "        return self.most_common(y_labels)\n",
    "        \n",
    "    def most_common(self, y_labels):\n",
    "        a = tuple(set(y_labels))\n",
    "        count = [y_labels.count(i) for i in a]\n",
    "        return a[np.argsort(count)[-1]]\n",
    "    \n",
    "    def score(self, y_predicted, y_train):\n",
    "        \n",
    "        if self.method == \"regression\":\n",
    "            return \"r2\", 1 - np.sum((y_predicted - y_train)**2) / np.sum((y_train.mean() - y_train)**2)\n",
    "            \n",
    "        return \"accuracy\", (y_predicted == y_train).sum() / len(y_train)\n",
    "\n",
    "    def distance(self, x_test, x_train):\n",
    "        return np.sqrt(np.abs(np.sum((x_test - x_train)**2)))\n",
    "    \n",
    "    def cv(self, X, y, cv=5):\n",
    "        if X.shape[0] == 0:\n",
    "            return self.metric, np.array([0] * cv)\n",
    "        \n",
    "        self.X = X\n",
    "        self.y = np.reshape(y, (len(y), 1))        \n",
    "        data = np.concatenate((self.X, self.y), axis=1)\n",
    "        np.random.shuffle(data)\n",
    "         \n",
    "        data = pd.DataFrame(data)\n",
    "        score = []\n",
    "        \n",
    "        for i in range(cv):\n",
    "            lenght = int(len(y) / cv)\n",
    "            \n",
    "            end = i * lenght + lenght\n",
    "            \n",
    "            if i == cv - 1: \n",
    "                end = -1\n",
    "            \n",
    "            X_test = data.iloc[i * lenght: end, :-1]\n",
    "            X_train = data.drop(index=X_test.index).iloc[:, :-1]\n",
    "            \n",
    "            if self.scale:\n",
    "                for j in range(X_train.shape[1]):\n",
    "                    mean = X_train.iloc[:, j].mean()\n",
    "                    std = X_train.iloc[:, j].std()\n",
    "\n",
    "                    X_train.iloc[:, j] = (X_train.iloc[:, j] - mean) / std\n",
    "                    X_test.iloc[:, j] = (X_test.iloc[:, j] - mean) / std\n",
    "            \n",
    "            y_test = data.iloc[i * lenght: end, -1]\n",
    "            y_train = data.drop(index=X_test.index).iloc[:, -1]\n",
    "            \n",
    "            clf = KNN()\n",
    "            clf.fit(np.array(X_train), np.array(y_train))\n",
    "            self.metric, s_ = clf.score(clf.predict(np.array(X_test)), np.array(y_test))\n",
    "            score.append(s_)\n",
    "        \n",
    "        return self.metric, np.array(score)"
   ]
  },
  {
   "cell_type": "code",
   "execution_count": 31,
   "metadata": {
    "code_folding": [
     0,
     28,
     38,
     47,
     70,
     78,
     85,
     115,
     126,
     132
    ],
    "run_control": {
     "marked": false
    }
   },
   "outputs": [],
   "source": [
    "class GeneticAlgorithm:\n",
    "    def __init__(self, X, y, populations=100, chromosomes=10, reverse_best=True, \n",
    "                 still_random=2, mutate_genes=0.01, manipulations=None, model=None,\n",
    "                 desired_score=None):\n",
    "        self.X = X\n",
    "        self.y = y\n",
    "        self.populations = populations\n",
    "        self.chromosomes = chromosomes\n",
    "        self.reverse_best = reverse_best\n",
    "        self.still_random = still_random\n",
    "        self.mutate_genes = mutate_genes\n",
    "        self.manipulations = manipulations\n",
    "        self.desired_score = desired_score\n",
    "        \n",
    "        # перевод из долей в количество мутируемых ген\n",
    "        if mutate_genes < 1.0: \n",
    "            self.mutate_genes = np.ceil(self.X.shape[1] * len(self.manipulations) * mutate_genes)\n",
    "\n",
    "        self.model = model\n",
    "        self.count = 0\n",
    "        self.score = 0\n",
    "        self.cv_best_score = [] # лучшее качество в поколении\n",
    "        self.best_genes = None  # лучший набор ген\n",
    "        self.at_iteration = 0   # ...на итерации\n",
    "        self.cv_all_scores = [] \n",
    "        # частота использования манипуляций над признаками (важность)\n",
    "        self.gene_expression  = np.zeros((len(self.manipulations), self.X.shape[1]))\n",
    "        \n",
    "    def generate_population(self):  \n",
    "        # генерация нулевого поколения, случайное заполнение хромосом\n",
    "        self.population = []\n",
    "\n",
    "        for i in range(self.chromosomes):       \n",
    "            self.population.append(self.random_genes())\n",
    "        \n",
    "        sorted_population = self.sort_population(self.population)\n",
    "        return sorted_population\n",
    "    \n",
    "    def random_genes(self):  \n",
    "        genes = np.random.randint(2, size=(len(self.manipulations), self.X.shape[1]))\n",
    "        genes = self.correct_manipulations(genes)\n",
    "        \n",
    "        # вычисление качества по скользящему контролю для данного набора ген\n",
    "        cv_score = self.fitness_func(genes)\n",
    "        individual = {\"genes\": genes, \"cv_score\": cv_score}\n",
    "        return individual\n",
    "\n",
    "    def sort_population(self, population):\n",
    "        # сортировка хромосом в популяции по качеству модели\n",
    "        sorted_population = sorted(population, key=lambda k: k[\"cv_score\"], reverse=True)\n",
    "        self.cv_best_score.append(sorted_population[0][\"cv_score\"])\n",
    "        \n",
    "        # счётчик (частота) использования манипуляций над признаками по наилучшим хромосомам\n",
    "        self.gene_expression += sorted_population[0][\"genes\"]\n",
    "        self.count += 1\n",
    "        return sorted_population\n",
    "\n",
    "    def add_feature(self, X_origin, genes):\n",
    "        # формирование признаков по заданным в хромосоме манипуляциям\n",
    "        X_new = []\n",
    "        for i in range(X_origin.shape[1]): \n",
    "            if genes[0, i]: X_new.append(X_origin[:, i])\n",
    "            if genes[1, i]: X_new.append(X_origin[:, i]**2)\n",
    "            if genes[2, i] and 0 not in X_origin[:, i]: X_new.append(1 / X_origin[:, i])\n",
    "#             if genes[3, i]: X_new.append(np.exp(X_origin[:, i]))\n",
    "            if genes[3, i]: X_new.append(np.sin(X_origin[:, i]))\n",
    "\n",
    "        X_new = np.array(X_new).T\n",
    "        return X_new\n",
    "                                  \n",
    "    def fitness_func(self, genes):  \n",
    "        # расчет качества модели по скользящему контролю\n",
    "        X_new = self.add_feature(self.X, genes)\n",
    "        cv_score = self.model.cv(X_new, self.y, cv=5)[1]\n",
    "        cv_score = cv_score.sum() / len(cv_score)\n",
    "        \n",
    "        self.cv_all_scores.append(cv_score)\n",
    "        \n",
    "        if cv_score > self.score:\n",
    "            self.score = cv_score\n",
    "            self.best_genes = genes\n",
    "            self.at_iteration = self.count\n",
    "\n",
    "        return (cv_score)\n",
    "    \n",
    "    def make_next_population(self, prev_population):\n",
    "        # создание следующего поколения\n",
    "        next_population = []       \n",
    "        next_population.append(prev_population[0])\n",
    "        \n",
    "        # скрещивание лучшей хромосомы с худшими\n",
    "        for i in range (1, self.chromosomes - self.still_random - self.reverse_best, 1):\n",
    "            best = prev_population[0]\n",
    "            weaker = prev_population[i]\n",
    "\n",
    "            individual = self.crossover(best, weaker)\n",
    "            # мутация некоторых ген\n",
    "            individual = self.mutate(individual)\n",
    "            next_population.append(individual)\n",
    "\n",
    "        # добавление в поколение хромосом со случайным набором ген\n",
    "        i = 0\n",
    "        while i < self.still_random:\n",
    "            next_population.append(self.random_genes())\n",
    "            i += 1\n",
    "        \n",
    "        # последняя хромосома в поколении с реверсом ген лучшей хромосомы\n",
    "        if self.reverse_best:\n",
    "            last_individual = (prev_population[0][\"genes\"] - 1) * (-1)\n",
    "            last_individual = self.correct_manipulations(last_individual)\n",
    "            cv_score = self.fitness_func(last_individual)\n",
    "            next_population.append({\"genes\": last_individual, \"cv_score\": cv_score})\n",
    "\n",
    "        return self.sort_population(next_population)\n",
    "    \n",
    "    def crossover(self, best, weaker):\n",
    "        # метод скрещивания хромосом (50 / 50)\n",
    "        b = np.array(best[\"genes\"])\n",
    "        c = np.array(weaker[\"genes\"])\n",
    "\n",
    "        mask = np.random.randint(0, 2, b.shape, dtype=bool)\n",
    "        d = np.where(mask, b, c)\n",
    "        individual = self.correct_manipulations(d)\n",
    "        \n",
    "        return {\"genes\": individual, \"cv_score\": np.nan}\n",
    "\n",
    "    def correct_manipulations(self, genes):\n",
    "        # контроль доступных манипуляций над признаками\n",
    "        for ind, val in enumerate(self.manipulations):\n",
    "            genes[ind, :] = genes[ind, :] * int(val)\n",
    "        return genes\n",
    "\n",
    "    def mutate(self, individual):\n",
    "        # метод для мутации ген\n",
    "        mutate = np.array(individual[\"genes\"])\n",
    "\n",
    "        cnt = 0    \n",
    "        a = []\n",
    "\n",
    "        while cnt < self.mutate_genes:\n",
    "            i = np.random.randint(mutate.shape[0])        \n",
    "            j = np.random.randint(mutate.shape[1])\n",
    "\n",
    "            if [i, j] not in a and bool(int(self.manipulations[i])):\n",
    "\n",
    "                if mutate[i, j]: mutate[i, j] = 0\n",
    "                else: mutate[i, j] = 1\n",
    "\n",
    "                cnt += 1\n",
    "                a += [i, j]\n",
    "        \n",
    "        mutate = self.correct_manipulations(mutate)\n",
    "        cv_score = self.fitness_func(mutate) \n",
    "        return {\"genes\": mutate, \"cv_score\": cv_score}"
   ]
  },
  {
   "cell_type": "markdown",
   "metadata": {},
   "source": [
    "## Поиск информативных признаков и манипуляций над признаками."
   ]
  },
  {
   "cell_type": "markdown",
   "metadata": {},
   "source": [
    "### Инициализация модели KNN."
   ]
  },
  {
   "cell_type": "code",
   "execution_count": 32,
   "metadata": {},
   "outputs": [
    {
     "data": {
      "text/plain": [
       "0.9017456091925367"
      ]
     },
     "execution_count": 32,
     "metadata": {},
     "output_type": "execute_result"
    }
   ],
   "source": [
    "# Качество по кросс валидации на неизмененных данных\n",
    "clf = KNN(k=3, scale=True)\n",
    "zero_score = clf.cv(X, y)[1].sum() / 5\n",
    "zero_score"
   ]
  },
  {
   "cell_type": "markdown",
   "metadata": {},
   "source": [
    "### Поиск информативных признаков."
   ]
  },
  {
   "cell_type": "code",
   "execution_count": null,
   "metadata": {
    "code_folding": [],
    "scrolled": true
   },
   "outputs": [
    {
     "name": "stderr",
     "output_type": "stream",
     "text": [
      " 30%|████████████████████████▉                                                          | 3/10 [01:33<03:37, 31.06s/it]"
     ]
    }
   ],
   "source": [
    "manipulations = [\"x\", \"x2\", \"1/x\", \"sin(x)\"]# допустимые манипуляции над признаками\n",
    "    \n",
    "ga = GeneticAlgorithm(X, y,                 # передаем признаки и целевую переменную\n",
    "                      populations=10,       # сколько поколений создать (число итераци)\n",
    "                      chromosomes=10,       # число хромосом в одном поколении\n",
    "                      reverse_best=False,   # реверсировать хромосому с лучшей моделью?\n",
    "                      still_random=1,       # сколько хромосом генерировать случайным заполнением\n",
    "                      mutate_genes=0.01,    # доля ген для мутации\n",
    "                      manipulations=\"1111\", # какие манипуляции над признаками пробовать\n",
    "                      model=clf,            # модель\n",
    "                      desired_score=None)   # желаемое качество\n",
    "\n",
    "# создание нулевого поколения\n",
    "population = ga.generate_population()\n",
    "\n",
    "for i in tqdm.tqdm(range(ga.populations)):\n",
    "    # следующее поколение (скрещивание, мутации)\n",
    "    population = ga.make_next_population(population)\n",
    "    \n",
    "print(\"*** DONE ***\")"
   ]
  },
  {
   "cell_type": "code",
   "execution_count": null,
   "metadata": {},
   "outputs": [],
   "source": [
    "plot_results(vmin=0.5, vmax=1.05)"
   ]
  },
  {
   "cell_type": "code",
   "execution_count": null,
   "metadata": {},
   "outputs": [],
   "source": [
    "# Часто используемые признаки и манипуляции\n",
    "importance()"
   ]
  },
  {
   "cell_type": "markdown",
   "metadata": {},
   "source": [
    "### Поиск информативных манипуляций над признаками. Горячий рестарт. "
   ]
  },
  {
   "cell_type": "code",
   "execution_count": null,
   "metadata": {},
   "outputs": [],
   "source": [
    "manipulations # допустимые манипуляции над признаками"
   ]
  },
  {
   "cell_type": "code",
   "execution_count": null,
   "metadata": {},
   "outputs": [],
   "source": [
    "hot_restart = True\n",
    "\n",
    "if hot_restart:\n",
    "    ga.populations = 10       # сколько еще поколений создать\n",
    "    ga.manipulations = \"1000\" # какие манипуляции над признаками пробовать\n",
    "    ga.mutate_genes = 0.01    # доля ген для мутации\n",
    "    ga.reverse_best = True    # реверсировать хромосому с лучшей моделью?\n",
    "    ga.still_random = 1       # сколько хромосом генерировать случайным заполнением\n",
    "\n",
    "    for i in tqdm.tqdm(range(ga.populations)):\n",
    "        # следующее поколение (скрещивание, мутации)\n",
    "        population = ga.make_next_population(population)\n",
    "\n",
    "    print(\"*** DONE ***\")"
   ]
  },
  {
   "cell_type": "code",
   "execution_count": null,
   "metadata": {},
   "outputs": [],
   "source": [
    "plot_results(vmin=0, vmax=1.05)"
   ]
  },
  {
   "cell_type": "code",
   "execution_count": null,
   "metadata": {},
   "outputs": [],
   "source": [
    "# Часто используемые признаки и манипуляции\n",
    "importance()"
   ]
  },
  {
   "cell_type": "code",
   "execution_count": null,
   "metadata": {},
   "outputs": [],
   "source": []
  }
 ],
 "metadata": {
  "kernelspec": {
   "display_name": "Python 3",
   "language": "python",
   "name": "python3"
  },
  "language_info": {
   "codemirror_mode": {
    "name": "ipython",
    "version": 3
   },
   "file_extension": ".py",
   "mimetype": "text/x-python",
   "name": "python",
   "nbconvert_exporter": "python",
   "pygments_lexer": "ipython3",
   "version": "3.8.3"
  },
  "toc": {
   "base_numbering": 1,
   "nav_menu": {},
   "number_sections": true,
   "sideBar": true,
   "skip_h1_title": false,
   "title_cell": "Table of Contents",
   "title_sidebar": "Contents",
   "toc_cell": false,
   "toc_position": {},
   "toc_section_display": true,
   "toc_window_display": false
  },
  "varInspector": {
   "cols": {
    "lenName": 16,
    "lenType": 16,
    "lenVar": 40
   },
   "kernels_config": {
    "python": {
     "delete_cmd_postfix": "",
     "delete_cmd_prefix": "del ",
     "library": "var_list.py",
     "varRefreshCmd": "print(var_dic_list())"
    },
    "r": {
     "delete_cmd_postfix": ") ",
     "delete_cmd_prefix": "rm(",
     "library": "var_list.r",
     "varRefreshCmd": "cat(var_dic_list()) "
    }
   },
   "types_to_exclude": [
    "module",
    "function",
    "builtin_function_or_method",
    "instance",
    "_Feature"
   ],
   "window_display": false
  }
 },
 "nbformat": 4,
 "nbformat_minor": 4
}
